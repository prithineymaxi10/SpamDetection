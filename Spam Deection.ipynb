{
  "cells": [
    {
      "cell_type": "code",
      "execution_count": null,
      "id": "7146a530",
      "metadata": {
        "id": "7146a530",
        "outputId": "c0a32b28-6fd7-4094-a243-2dbde7b01e88"
      },
      "outputs": [
        {
          "name": "stderr",
          "output_type": "stream",
          "text": [
            "[nltk_data] Downloading package stopwords to\n",
            "[nltk_data]     /Users/vedhashniv/nltk_data...\n",
            "[nltk_data]   Unzipping corpora/stopwords.zip.\n"
          ]
        },
        {
          "data": {
            "text/plain": [
              "True"
            ]
          },
          "execution_count": 28,
          "metadata": {},
          "output_type": "execute_result"
        }
      ],
      "source": [
        "import pickle\n",
        "import numpy as np\n",
        "import pandas as pd\n",
        "import seaborn as sns\n",
        "sns.set_style(\"white\")\n",
        "import matplotlib.pyplot as plt\n",
        "import string\n",
        "from pickle import dump\n",
        "from sklearn.feature_extraction.text import CountVectorizer\n",
        "from sklearn.model_selection import train_test_split\n",
        "from sklearn.metrics import classification_report, confusion_matrix, accuracy_score\n",
        "import nltk\n",
        "from nltk.corpus import stopwords\n",
        "nltk.download('stopwords')"
      ]
    },
    {
      "cell_type": "markdown",
      "id": "61df7e66",
      "metadata": {
        "id": "61df7e66"
      },
      "source": [
        "## Data Loading\n",
        "Load the dataset and show its info and statistics"
      ]
    },
    {
      "cell_type": "code",
      "execution_count": null,
      "id": "6a2bd66e",
      "metadata": {
        "id": "6a2bd66e",
        "outputId": "7091adfe-5987-43cd-fd70-dfd3b5a3d45a"
      },
      "outputs": [
        {
          "data": {
            "text/plain": [
              "(5171, 4)"
            ]
          },
          "execution_count": 15,
          "metadata": {},
          "output_type": "execute_result"
        }
      ],
      "source": [
        "# Load the dataset\n",
        "dataset = pd.read_csv('spam_ham_dataset.csv')\n",
        "dataset.shape"
      ]
    },
    {
      "cell_type": "code",
      "execution_count": null,
      "id": "d4da917c",
      "metadata": {
        "id": "d4da917c",
        "outputId": "077b360b-8e5a-4e67-ac63-699f6b07e07e"
      },
      "outputs": [
        {
          "data": {
            "text/html": [
              "<div>\n",
              "<style scoped>\n",
              "    .dataframe tbody tr th:only-of-type {\n",
              "        vertical-align: middle;\n",
              "    }\n",
              "\n",
              "    .dataframe tbody tr th {\n",
              "        vertical-align: top;\n",
              "    }\n",
              "\n",
              "    .dataframe thead th {\n",
              "        text-align: right;\n",
              "    }\n",
              "</style>\n",
              "<table border=\"1\" class=\"dataframe\">\n",
              "  <thead>\n",
              "    <tr style=\"text-align: right;\">\n",
              "      <th></th>\n",
              "      <th>Unnamed: 0</th>\n",
              "      <th>label</th>\n",
              "      <th>text</th>\n",
              "      <th>label_num</th>\n",
              "    </tr>\n",
              "  </thead>\n",
              "  <tbody>\n",
              "    <tr>\n",
              "      <th>0</th>\n",
              "      <td>605</td>\n",
              "      <td>ham</td>\n",
              "      <td>Subject: enron methanol ; meter # : 988291\\r\\n...</td>\n",
              "      <td>0</td>\n",
              "    </tr>\n",
              "    <tr>\n",
              "      <th>1</th>\n",
              "      <td>2349</td>\n",
              "      <td>ham</td>\n",
              "      <td>Subject: hpl nom for january 9 , 2001\\r\\n( see...</td>\n",
              "      <td>0</td>\n",
              "    </tr>\n",
              "    <tr>\n",
              "      <th>2</th>\n",
              "      <td>3624</td>\n",
              "      <td>ham</td>\n",
              "      <td>Subject: neon retreat\\r\\nho ho ho , we ' re ar...</td>\n",
              "      <td>0</td>\n",
              "    </tr>\n",
              "    <tr>\n",
              "      <th>3</th>\n",
              "      <td>4685</td>\n",
              "      <td>spam</td>\n",
              "      <td>Subject: photoshop , windows , office . cheap ...</td>\n",
              "      <td>1</td>\n",
              "    </tr>\n",
              "    <tr>\n",
              "      <th>4</th>\n",
              "      <td>2030</td>\n",
              "      <td>ham</td>\n",
              "      <td>Subject: re : indian springs\\r\\nthis deal is t...</td>\n",
              "      <td>0</td>\n",
              "    </tr>\n",
              "  </tbody>\n",
              "</table>\n",
              "</div>"
            ],
            "text/plain": [
              "   Unnamed: 0 label                                               text  \\\n",
              "0         605   ham  Subject: enron methanol ; meter # : 988291\\r\\n...   \n",
              "1        2349   ham  Subject: hpl nom for january 9 , 2001\\r\\n( see...   \n",
              "2        3624   ham  Subject: neon retreat\\r\\nho ho ho , we ' re ar...   \n",
              "3        4685  spam  Subject: photoshop , windows , office . cheap ...   \n",
              "4        2030   ham  Subject: re : indian springs\\r\\nthis deal is t...   \n",
              "\n",
              "   label_num  \n",
              "0          0  \n",
              "1          0  \n",
              "2          0  \n",
              "3          1  \n",
              "4          0  "
            ]
          },
          "execution_count": 16,
          "metadata": {},
          "output_type": "execute_result"
        }
      ],
      "source": [
        "# Show dataset head (first 5 records)\n",
        "dataset.head()"
      ]
    },
    {
      "cell_type": "code",
      "execution_count": null,
      "id": "fa02ffc5",
      "metadata": {
        "id": "fa02ffc5",
        "outputId": "5f58a94a-ca70-48fe-da42-5fc3c74e1c1d"
      },
      "outputs": [
        {
          "data": {
            "text/html": [
              "<div>\n",
              "<style scoped>\n",
              "    .dataframe tbody tr th:only-of-type {\n",
              "        vertical-align: middle;\n",
              "    }\n",
              "\n",
              "    .dataframe tbody tr th {\n",
              "        vertical-align: top;\n",
              "    }\n",
              "\n",
              "    .dataframe thead th {\n",
              "        text-align: right;\n",
              "    }\n",
              "</style>\n",
              "<table border=\"1\" class=\"dataframe\">\n",
              "  <thead>\n",
              "    <tr style=\"text-align: right;\">\n",
              "      <th></th>\n",
              "      <th>label</th>\n",
              "      <th>text</th>\n",
              "      <th>label_num</th>\n",
              "    </tr>\n",
              "  </thead>\n",
              "  <tbody>\n",
              "    <tr>\n",
              "      <th>0</th>\n",
              "      <td>ham</td>\n",
              "      <td>Subject: enron methanol ; meter # : 988291\\r\\n...</td>\n",
              "      <td>0</td>\n",
              "    </tr>\n",
              "    <tr>\n",
              "      <th>1</th>\n",
              "      <td>ham</td>\n",
              "      <td>Subject: hpl nom for january 9 , 2001\\r\\n( see...</td>\n",
              "      <td>0</td>\n",
              "    </tr>\n",
              "    <tr>\n",
              "      <th>2</th>\n",
              "      <td>ham</td>\n",
              "      <td>Subject: neon retreat\\r\\nho ho ho , we ' re ar...</td>\n",
              "      <td>0</td>\n",
              "    </tr>\n",
              "    <tr>\n",
              "      <th>3</th>\n",
              "      <td>spam</td>\n",
              "      <td>Subject: photoshop , windows , office . cheap ...</td>\n",
              "      <td>1</td>\n",
              "    </tr>\n",
              "    <tr>\n",
              "      <th>4</th>\n",
              "      <td>ham</td>\n",
              "      <td>Subject: re : indian springs\\r\\nthis deal is t...</td>\n",
              "      <td>0</td>\n",
              "    </tr>\n",
              "    <tr>\n",
              "      <th>...</th>\n",
              "      <td>...</td>\n",
              "      <td>...</td>\n",
              "      <td>...</td>\n",
              "    </tr>\n",
              "    <tr>\n",
              "      <th>5166</th>\n",
              "      <td>ham</td>\n",
              "      <td>Subject: put the 10 on the ft\\r\\nthe transport...</td>\n",
              "      <td>0</td>\n",
              "    </tr>\n",
              "    <tr>\n",
              "      <th>5167</th>\n",
              "      <td>ham</td>\n",
              "      <td>Subject: 3 / 4 / 2000 and following noms\\r\\nhp...</td>\n",
              "      <td>0</td>\n",
              "    </tr>\n",
              "    <tr>\n",
              "      <th>5168</th>\n",
              "      <td>ham</td>\n",
              "      <td>Subject: calpine daily gas nomination\\r\\n&gt;\\r\\n...</td>\n",
              "      <td>0</td>\n",
              "    </tr>\n",
              "    <tr>\n",
              "      <th>5169</th>\n",
              "      <td>ham</td>\n",
              "      <td>Subject: industrial worksheets for august 2000...</td>\n",
              "      <td>0</td>\n",
              "    </tr>\n",
              "    <tr>\n",
              "      <th>5170</th>\n",
              "      <td>spam</td>\n",
              "      <td>Subject: important online banking alert\\r\\ndea...</td>\n",
              "      <td>1</td>\n",
              "    </tr>\n",
              "  </tbody>\n",
              "</table>\n",
              "<p>5171 rows × 3 columns</p>\n",
              "</div>"
            ],
            "text/plain": [
              "     label                                               text  label_num\n",
              "0      ham  Subject: enron methanol ; meter # : 988291\\r\\n...          0\n",
              "1      ham  Subject: hpl nom for january 9 , 2001\\r\\n( see...          0\n",
              "2      ham  Subject: neon retreat\\r\\nho ho ho , we ' re ar...          0\n",
              "3     spam  Subject: photoshop , windows , office . cheap ...          1\n",
              "4      ham  Subject: re : indian springs\\r\\nthis deal is t...          0\n",
              "...    ...                                                ...        ...\n",
              "5166   ham  Subject: put the 10 on the ft\\r\\nthe transport...          0\n",
              "5167   ham  Subject: 3 / 4 / 2000 and following noms\\r\\nhp...          0\n",
              "5168   ham  Subject: calpine daily gas nomination\\r\\n>\\r\\n...          0\n",
              "5169   ham  Subject: industrial worksheets for august 2000...          0\n",
              "5170  spam  Subject: important online banking alert\\r\\ndea...          1\n",
              "\n",
              "[5171 rows x 3 columns]"
            ]
          },
          "execution_count": 17,
          "metadata": {},
          "output_type": "execute_result"
        }
      ],
      "source": [
        "#dopping/Removing the Unnamed column from the DataFrame.\n",
        "col_names = dataset.columns\n",
        "dataset = dataset.drop(dataset.columns[0],axis=1)\n",
        "for c in col_names:\n",
        "    dataset = dataset.replace(\"?\", np.NaN)\n",
        "dataset = dataset.apply(lambda x: x.fillna(x.value_counts().index[0]))\n",
        "dataset"
      ]
    },
    {
      "cell_type": "code",
      "execution_count": null,
      "id": "6ee88b8a",
      "metadata": {
        "id": "6ee88b8a",
        "outputId": "63d983c8-a5c2-4a31-b4a6-cafc2a10bdb5"
      },
      "outputs": [
        {
          "name": "stdout",
          "output_type": "stream",
          "text": [
            "<class 'pandas.core.frame.DataFrame'>\n",
            "RangeIndex: 5171 entries, 0 to 5170\n",
            "Data columns (total 3 columns):\n",
            " #   Column     Non-Null Count  Dtype \n",
            "---  ------     --------------  ----- \n",
            " 0   label      5171 non-null   object\n",
            " 1   text       5171 non-null   object\n",
            " 2   label_num  5171 non-null   int64 \n",
            "dtypes: int64(1), object(2)\n",
            "memory usage: 121.3+ KB\n"
          ]
        }
      ],
      "source": [
        "# Show dataset info\n",
        "dataset.info()"
      ]
    },
    {
      "cell_type": "code",
      "execution_count": null,
      "id": "8f8953da",
      "metadata": {
        "id": "8f8953da",
        "outputId": "9d4146d3-040a-449b-b349-dea708cb62a8"
      },
      "outputs": [
        {
          "data": {
            "text/html": [
              "<div>\n",
              "<style scoped>\n",
              "    .dataframe tbody tr th:only-of-type {\n",
              "        vertical-align: middle;\n",
              "    }\n",
              "\n",
              "    .dataframe tbody tr th {\n",
              "        vertical-align: top;\n",
              "    }\n",
              "\n",
              "    .dataframe thead th {\n",
              "        text-align: right;\n",
              "    }\n",
              "</style>\n",
              "<table border=\"1\" class=\"dataframe\">\n",
              "  <thead>\n",
              "    <tr style=\"text-align: right;\">\n",
              "      <th></th>\n",
              "      <th>label_num</th>\n",
              "    </tr>\n",
              "  </thead>\n",
              "  <tbody>\n",
              "    <tr>\n",
              "      <th>count</th>\n",
              "      <td>5171.000000</td>\n",
              "    </tr>\n",
              "    <tr>\n",
              "      <th>mean</th>\n",
              "      <td>0.289886</td>\n",
              "    </tr>\n",
              "    <tr>\n",
              "      <th>std</th>\n",
              "      <td>0.453753</td>\n",
              "    </tr>\n",
              "    <tr>\n",
              "      <th>min</th>\n",
              "      <td>0.000000</td>\n",
              "    </tr>\n",
              "    <tr>\n",
              "      <th>25%</th>\n",
              "      <td>0.000000</td>\n",
              "    </tr>\n",
              "    <tr>\n",
              "      <th>50%</th>\n",
              "      <td>0.000000</td>\n",
              "    </tr>\n",
              "    <tr>\n",
              "      <th>75%</th>\n",
              "      <td>1.000000</td>\n",
              "    </tr>\n",
              "    <tr>\n",
              "      <th>max</th>\n",
              "      <td>1.000000</td>\n",
              "    </tr>\n",
              "  </tbody>\n",
              "</table>\n",
              "</div>"
            ],
            "text/plain": [
              "         label_num\n",
              "count  5171.000000\n",
              "mean      0.289886\n",
              "std       0.453753\n",
              "min       0.000000\n",
              "25%       0.000000\n",
              "50%       0.000000\n",
              "75%       1.000000\n",
              "max       1.000000"
            ]
          },
          "execution_count": 19,
          "metadata": {},
          "output_type": "execute_result"
        }
      ],
      "source": [
        "# Show dataset statistics\n",
        "dataset.describe()"
      ]
    },
    {
      "cell_type": "markdown",
      "id": "be86ca82",
      "metadata": {
        "id": "be86ca82"
      },
      "source": [
        "## Data Visualization\n",
        "Visualize dataset features frequencies to get some insights"
      ]
    },
    {
      "cell_type": "code",
      "execution_count": null,
      "id": "1a315b3e",
      "metadata": {
        "id": "1a315b3e",
        "outputId": "6ee96d98-7e42-4715-d643-da139e8481a9"
      },
      "outputs": [
        {
          "name": "stderr",
          "output_type": "stream",
          "text": [
            "/Users/vedhashniv/opt/anaconda3/lib/python3.9/site-packages/seaborn/_decorators.py:36: FutureWarning: Pass the following variable as a keyword arg: x. From version 0.12, the only valid positional argument will be `data`, and passing other arguments without an explicit keyword will result in an error or misinterpretation.\n",
            "  warnings.warn(\n"
          ]
        },
        {
          "data": {
            "image/png": "[encoded data removed]",
            "text/plain": [
              "<Figure size 640x480 with 1 Axes>"
            ]
          },
          "metadata": {},
          "output_type": "display_data"
        }
      ],
      "source": [
        "# Visualize spam  frequenices\n",
        "plt.figure(dpi=100)\n",
        "sns.countplot(dataset['label_num'])\n",
        "plt.title(\"Spam Freqencies\")\n",
        "plt.show()"
      ]
    },
    {
      "cell_type": "markdown",
      "id": "d89664ab",
      "metadata": {
        "id": "d89664ab"
      },
      "source": [
        "## Data Cleaning\n",
        "Handling missing values and check for duplicates"
      ]
    },
    {
      "cell_type": "code",
      "execution_count": null,
      "id": "8d26e793",
      "metadata": {
        "id": "8d26e793",
        "outputId": "7ce98de4-2c19-4f34-9115-d4f93d0a9f3f"
      },
      "outputs": [
        {
          "data": {
            "text/plain": [
              "label        0\n",
              "text         0\n",
              "label_num    0\n",
              "dtype: int64"
            ]
          },
          "execution_count": 21,
          "metadata": {},
          "output_type": "execute_result"
        }
      ],
      "source": [
        "# Check for missing data for each column\n",
        "dataset.isnull().sum()"
      ]
    },
    {
      "cell_type": "code",
      "execution_count": null,
      "id": "04727a15",
      "metadata": {
        "id": "04727a15"
      },
      "outputs": [],
      "source": [
        "# Check for duplicates and remove them\n",
        "dataset.drop_duplicates(inplace=True)\n"
      ]
    },
    {
      "cell_type": "code",
      "execution_count": null,
      "id": "7d9a1546",
      "metadata": {
        "id": "7d9a1546"
      },
      "outputs": [],
      "source": [
        "# Cleaning data from punctuation and stopwords and then tokenizing it into words (tokens)\n",
        "def process(text):\n",
        "    nopunc = [char for char in text if char not in string.punctuation]\n",
        "    nopunc = ''.join(nopunc)\n",
        "    clean = [word for word in nopunc.split() if word.lower() not in stopwords.words('english')]\n",
        "    return clean"
      ]
    },
    {
      "cell_type": "code",
      "execution_count": null,
      "id": "68926fc0",
      "metadata": {
        "scrolled": false,
        "id": "68926fc0"
      },
      "outputs": [],
      "source": [
        "# Fit the CountVectorizer to data\n",
        "message = CountVectorizer(analyzer=process).fit_transform(dataset['text'])"
      ]
    },
    {
      "cell_type": "code",
      "execution_count": null,
      "id": "d8767213",
      "metadata": {
        "id": "d8767213"
      },
      "outputs": [],
      "source": [
        "# Save the vectorizer\n",
        "dump(message, open(\"vectorizer.pkl\", \"wb\"))"
      ]
    },
    {
      "cell_type": "markdown",
      "id": "69c07e21",
      "metadata": {
        "id": "69c07e21"
      },
      "source": [
        "## Data Splitting\n",
        "Split the dataset into training and testing sets"
      ]
    },
    {
      "cell_type": "code",
      "execution_count": null,
      "id": "88aa243c",
      "metadata": {
        "id": "88aa243c"
      },
      "outputs": [],
      "source": [
        "# Split the data into training and testing sets\n",
        "X_train, X_test, y_train, y_test = train_test_split(message, dataset['label_num'], test_size=0.20, random_state=0)"
      ]
    },
    {
      "cell_type": "markdown",
      "id": "f568ecca",
      "metadata": {
        "id": "f568ecca"
      },
      "source": [
        "## Random Forest Classifier"
      ]
    },
    {
      "cell_type": "code",
      "execution_count": null,
      "id": "da5f0210",
      "metadata": {
        "id": "da5f0210",
        "outputId": "0df63f3a-c8b6-484c-875a-01627582cc54"
      },
      "outputs": [
        {
          "data": {
            "text/plain": [
              "RandomForestClassifier(criterion='entropy', max_depth=15, min_samples_leaf=2,\n",
              "                       min_samples_split=3, n_estimators=130)"
            ]
          },
          "execution_count": 32,
          "metadata": {},
          "output_type": "execute_result"
        }
      ],
      "source": [
        "from sklearn.ensemble import RandomForestClassifier\n",
        "\n",
        "rand_clf = RandomForestClassifier(criterion = 'entropy', max_depth = 15, max_features = 'auto', min_samples_leaf = 2, min_samples_split = 3, n_estimators = 130)\n",
        "rand_clf.fit(X_train, y_train)\n"
      ]
    },
    {
      "cell_type": "code",
      "execution_count": null,
      "id": "928c2348",
      "metadata": {
        "id": "928c2348"
      },
      "outputs": [],
      "source": [
        "y_pred = rand_clf.predict(X_test)"
      ]
    },
    {
      "cell_type": "code",
      "execution_count": null,
      "id": "22cab196",
      "metadata": {
        "id": "22cab196",
        "outputId": "26991c61-4372-4471-c6fc-a1d909c462eb"
      },
      "outputs": [
        {
          "data": {
            "text/plain": [
              "Text(0, 0.5, 'prediction')"
            ]
          },
          "execution_count": 34,
          "metadata": {},
          "output_type": "execute_result"
        },
        {
          "data": {
            "image/png": "[encoded data removed]",
            "text/plain": [
              "<Figure size 640x480 with 1 Axes>"
            ]
          },
          "metadata": {},
          "output_type": "display_data"
        }
      ],
      "source": [
        "import matplotlib.pyplot as plt\n",
        "plt.scatter(y_test,y_pred)\n",
        "plt.title(\"Spam level prediction using Random Forest\")\n",
        "plt.xlabel(\"spam level\")\n",
        "plt.ylabel(\"prediction\")"
      ]
    },
    {
      "cell_type": "code",
      "execution_count": null,
      "id": "17a8457f",
      "metadata": {
        "id": "17a8457f",
        "outputId": "89b22519-b83c-4d25-a4e5-fb8249baae84"
      },
      "outputs": [
        {
          "name": "stdout",
          "output_type": "stream",
          "text": [
            "0.8487731597396094\n",
            "0.8478478478478478\n"
          ]
        }
      ],
      "source": [
        "# accuracy score\n",
        "\n",
        "print(accuracy_score(y_train, rand_clf.predict(X_train)))\n",
        "\n",
        "ran_clf_acc = accuracy_score(y_test, y_pred)\n",
        "print(ran_clf_acc)"
      ]
    },
    {
      "cell_type": "code",
      "execution_count": null,
      "id": "fea058e7",
      "metadata": {
        "id": "fea058e7",
        "outputId": "4ab8a0c0-b7e6-49d1-d46b-bc866a776cbd"
      },
      "outputs": [
        {
          "name": "stdout",
          "output_type": "stream",
          "text": [
            "              precision    recall  f1-score   support\n",
            "\n",
            "           0       0.83      1.00      0.90       722\n",
            "           1       1.00      0.45      0.62       277\n",
            "\n",
            "    accuracy                           0.85       999\n",
            "   macro avg       0.91      0.73      0.76       999\n",
            "weighted avg       0.87      0.85      0.83       999\n",
            "\n"
          ]
        }
      ],
      "source": [
        "# classification report\n",
        "\n",
        "print(classification_report(y_test, y_pred))"
      ]
    },
    {
      "cell_type": "code",
      "execution_count": null,
      "id": "c9c4cf15",
      "metadata": {
        "id": "c9c4cf15",
        "outputId": "bc8b3e87-ec54-4d51-d8e1-20f2fb6f8d51"
      },
      "outputs": [
        {
          "data": {
            "image/png": "[encoded data removed]",
            "text/plain": [
              "<Figure size 640x480 with 2 Axes>"
            ]
          },
          "metadata": {},
          "output_type": "display_data"
        }
      ],
      "source": [
        "from sklearn.metrics import confusion_matrix\n",
        "confusion_matrix = confusion_matrix(y_test,y_pred)\n",
        "class_names = [0,1,2]\n",
        "fig,ax = plt.subplots()\n",
        "tick_marks = np.arange(len(class_names))\n",
        "plt.xticks(tick_marks,class_names)\n",
        "plt.yticks(tick_marks,class_names)\n",
        "sns.heatmap(pd.DataFrame(confusion_matrix), annot = True, cmap = 'Greens', fmt = 'g')\n",
        "ax.xaxis.set_label_position('top')\n",
        "plt.tight_layout()\n",
        "plt.title('Confusion matrix for random forest to predict risk levels in Nexlab ')\n",
        "plt.ylabel('Actual range')\n",
        "plt.xlabel('Predicted range')\n",
        "plt.show()"
      ]
    },
    {
      "cell_type": "markdown",
      "id": "c2a50609",
      "metadata": {
        "id": "c2a50609"
      },
      "source": [
        "## KNN"
      ]
    },
    {
      "cell_type": "code",
      "execution_count": null,
      "id": "8fec86cd",
      "metadata": {
        "id": "8fec86cd",
        "outputId": "e2d54dfc-4950-42dc-db95-8e91e9861f5e"
      },
      "outputs": [
        {
          "data": {
            "text/plain": [
              "KNeighborsClassifier()"
            ]
          },
          "execution_count": 38,
          "metadata": {},
          "output_type": "execute_result"
        }
      ],
      "source": [
        "from sklearn.neighbors import KNeighborsClassifier\n",
        "\n",
        "knn = KNeighborsClassifier()\n",
        "knn.fit(X_train, y_train)"
      ]
    },
    {
      "cell_type": "code",
      "execution_count": null,
      "id": "d02316b8",
      "metadata": {
        "id": "d02316b8",
        "outputId": "d6a77f57-865f-456f-d3a5-7f239d6f21ed"
      },
      "outputs": [
        {
          "name": "stderr",
          "output_type": "stream",
          "text": [
            "/Users/vedhashniv/opt/anaconda3/lib/python3.9/site-packages/sklearn/neighbors/_classification.py:228: FutureWarning: Unlike other reduction functions (e.g. `skew`, `kurtosis`), the default behavior of `mode` typically preserves the axis it acts along. In SciPy 1.11.0, this behavior will change: the default value of `keepdims` will become False, the `axis` over which the statistic is taken will be eliminated, and the value None will no longer be accepted. Set `keepdims` to True or False to avoid this warning.\n",
            "  mode, _ = stats.mode(_y[neigh_ind, k], axis=1)\n"
          ]
        }
      ],
      "source": [
        "# model predictions\n",
        "\n",
        "y_pred1 = knn.predict(X_test)"
      ]
    },
    {
      "cell_type": "code",
      "execution_count": null,
      "id": "831565e8",
      "metadata": {
        "id": "831565e8",
        "outputId": "c0c3861a-9dd4-4ff8-a7d7-db65016c4246"
      },
      "outputs": [
        {
          "data": {
            "text/plain": [
              "Text(0, 0.5, 'prediction')"
            ]
          },
          "execution_count": 40,
          "metadata": {},
          "output_type": "execute_result"
        },
        {
          "data": {
            "image/png": "[encoded data removed]",
            "text/plain": [
              "<Figure size 640x480 with 1 Axes>"
            ]
          },
          "metadata": {},
          "output_type": "display_data"
        }
      ],
      "source": [
        "import matplotlib.pyplot as plt\n",
        "plt.scatter(y_test,y_pred1)\n",
        "plt.title(\"Spam level prediction using KNN\")\n",
        "plt.xlabel(\"Spam level\")\n",
        "plt.ylabel(\"prediction\")"
      ]
    },
    {
      "cell_type": "code",
      "execution_count": null,
      "id": "4d029219",
      "metadata": {
        "id": "4d029219",
        "outputId": "49a60e3c-0289-4a07-c870-2b9026c4c41d"
      },
      "outputs": [
        {
          "name": "stdout",
          "output_type": "stream",
          "text": [
            "0.8600400600901352\n",
            "0.8118118118118118\n"
          ]
        },
        {
          "name": "stderr",
          "output_type": "stream",
          "text": [
            "/Users/vedhashniv/opt/anaconda3/lib/python3.9/site-packages/sklearn/neighbors/_classification.py:228: FutureWarning: Unlike other reduction functions (e.g. `skew`, `kurtosis`), the default behavior of `mode` typically preserves the axis it acts along. In SciPy 1.11.0, this behavior will change: the default value of `keepdims` will become False, the `axis` over which the statistic is taken will be eliminated, and the value None will no longer be accepted. Set `keepdims` to True or False to avoid this warning.\n",
            "  mode, _ = stats.mode(_y[neigh_ind, k], axis=1)\n"
          ]
        }
      ],
      "source": [
        "# accuracy score\n",
        "\n",
        "print(accuracy_score(y_train, knn.predict(X_train)))\n",
        "\n",
        "knn_acc = accuracy_score(y_test, knn.predict(X_test))\n",
        "print(knn_acc)"
      ]
    },
    {
      "cell_type": "code",
      "execution_count": null,
      "id": "daf7b772",
      "metadata": {
        "id": "daf7b772",
        "outputId": "942cc710-8205-4ce5-8136-2ce3fc9d49b2"
      },
      "outputs": [
        {
          "name": "stdout",
          "output_type": "stream",
          "text": [
            "              precision    recall  f1-score   support\n",
            "\n",
            "           0       0.98      0.76      0.85       722\n",
            "           1       0.60      0.96      0.74       277\n",
            "\n",
            "    accuracy                           0.81       999\n",
            "   macro avg       0.79      0.86      0.80       999\n",
            "weighted avg       0.87      0.81      0.82       999\n",
            "\n"
          ]
        }
      ],
      "source": [
        "# classification report\n",
        "\n",
        "print(classification_report(y_test, y_pred1))"
      ]
    },
    {
      "cell_type": "code",
      "execution_count": null,
      "id": "804a45d7",
      "metadata": {
        "id": "804a45d7",
        "outputId": "59528c73-ffd9-42c1-ef44-47519bf07e4a"
      },
      "outputs": [
        {
          "data": {
            "image/png": "[encoded data removed]",
            "text/plain": [
              "<Figure size 640x480 with 2 Axes>"
            ]
          },
          "metadata": {},
          "output_type": "display_data"
        }
      ],
      "source": [
        "from sklearn.metrics import confusion_matrix\n",
        "confusion_matrix = confusion_matrix(y_test,y_pred1)\n",
        "class_names = [0,1,2]\n",
        "fig,ax = plt.subplots()\n",
        "tick_marks = np.arange(len(class_names))\n",
        "plt.xticks(tick_marks,class_names)\n",
        "plt.yticks(tick_marks,class_names)\n",
        "sns.heatmap(pd.DataFrame(confusion_matrix), annot = True, cmap = 'Greens', fmt = 'g')\n",
        "ax.xaxis.set_label_position('top')\n",
        "plt.tight_layout()\n",
        "plt.title('Confusion matrix for KNN to predict risk levels in Nexlab ')\n",
        "plt.ylabel('Actual range')\n",
        "plt.xlabel('Predicted range')\n",
        "plt.show()"
      ]
    },
    {
      "cell_type": "markdown",
      "id": "10b0a54b",
      "metadata": {
        "id": "10b0a54b"
      },
      "source": [
        "## Modal Comparison"
      ]
    },
    {
      "cell_type": "code",
      "execution_count": null,
      "id": "e1498012",
      "metadata": {
        "id": "e1498012",
        "outputId": "d2bd3b87-7688-4882-ae07-99271538f70d"
      },
      "outputs": [
        {
          "data": {
            "text/html": [
              "<div>\n",
              "<style scoped>\n",
              "    .dataframe tbody tr th:only-of-type {\n",
              "        vertical-align: middle;\n",
              "    }\n",
              "\n",
              "    .dataframe tbody tr th {\n",
              "        vertical-align: top;\n",
              "    }\n",
              "\n",
              "    .dataframe thead th {\n",
              "        text-align: right;\n",
              "    }\n",
              "</style>\n",
              "<table border=\"1\" class=\"dataframe\">\n",
              "  <thead>\n",
              "    <tr style=\"text-align: right;\">\n",
              "      <th></th>\n",
              "      <th>Model</th>\n",
              "      <th>Score</th>\n",
              "    </tr>\n",
              "  </thead>\n",
              "  <tbody>\n",
              "    <tr>\n",
              "      <th>1</th>\n",
              "      <td>Random Forest Classifier</td>\n",
              "      <td>84.78</td>\n",
              "    </tr>\n",
              "    <tr>\n",
              "      <th>0</th>\n",
              "      <td>KNN</td>\n",
              "      <td>81.18</td>\n",
              "    </tr>\n",
              "  </tbody>\n",
              "</table>\n",
              "</div>"
            ],
            "text/plain": [
              "                      Model  Score\n",
              "1  Random Forest Classifier  84.78\n",
              "0                       KNN  81.18"
            ]
          },
          "execution_count": 44,
          "metadata": {},
          "output_type": "execute_result"
        }
      ],
      "source": [
        "models = pd.DataFrame({\n",
        "    'Model': ['KNN', 'Random Forest Classifier'],\n",
        "    'Score': [100*round(knn_acc,4), 100*round(ran_clf_acc,4)]\n",
        "})\n",
        "models.sort_values(by = 'Score', ascending = False)"
      ]
    },
    {
      "cell_type": "markdown",
      "id": "87b784de",
      "metadata": {
        "id": "87b784de"
      },
      "source": [
        "## Prediction Graph Of Two Models"
      ]
    },
    {
      "cell_type": "code",
      "execution_count": null,
      "id": "711c885c",
      "metadata": {
        "id": "711c885c",
        "outputId": "9b021f68-0b66-4527-d0f8-2175ecf552cc"
      },
      "outputs": [
        {
          "data": {
            "text/plain": [
              "<matplotlib.legend.Legend at 0x7fd9b6251f10>"
            ]
          },
          "execution_count": 47,
          "metadata": {},
          "output_type": "execute_result"
        },
        {
          "data": {
            "image/png": "[encoded data removed]",
            "text/plain": [
              "<Figure size 640x480 with 1 Axes>"
            ]
          },
          "metadata": {},
          "output_type": "display_data"
        }
      ],
      "source": [
        "import matplotlib.pyplot as plt1\n",
        "plt1.plot(y_test,y_pred)\n",
        "plt1.scatter(y_test,y_pred1)\n",
        "plt1.title(\"Spam level prediction for two models\")\n",
        "plt1.xlabel(\"Spam level\")\n",
        "plt1.ylabel(\"prediction\")\n",
        "plt1.legend(('RF', 'KNN'))"
      ]
    },
    {
      "cell_type": "code",
      "execution_count": null,
      "id": "3022ba33",
      "metadata": {
        "id": "3022ba33"
      },
      "outputs": [],
      "source": [
        "import pickle\n",
        "filename=\"spamdetection.pkl\"\n",
        "model = rand_clf\n",
        "f= open(filename,'wb')\n",
        "pickle.dump(model, f)"
      ]
    },
    {
      "cell_type": "code",
      "execution_count": null,
      "id": "a8acfd38",
      "metadata": {
        "id": "a8acfd38"
      },
      "outputs": [],
      "source": []
    }
  ],
  "metadata": {
    "colab": {
      "provenance": []
    }
  },
  "nbformat": 4,
  "nbformat_minor": 5
}